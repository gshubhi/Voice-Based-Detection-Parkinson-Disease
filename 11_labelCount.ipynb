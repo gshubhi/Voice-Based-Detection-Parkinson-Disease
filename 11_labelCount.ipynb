{
 "cells": [
  {
   "cell_type": "code",
   "execution_count": null,
   "id": "656b6f81-e97c-4736-b4bb-1e3618833829",
   "metadata": {},
   "outputs": [],
   "source": [
    "# finding the count of each label in the dataset "
   ]
  },
  {
   "cell_type": "code",
   "execution_count": 4,
   "id": "a7ef3929-91da-43ee-ab81-043d33883c9f",
   "metadata": {},
   "outputs": [
    {
     "name": "stdout",
     "output_type": "stream",
     "text": [
      "Number of occurrences of each label:\n",
      "labels\n",
      "0    2358\n",
      "2     804\n",
      "3     611\n",
      "4     132\n",
      "Name: count, dtype: int64\n"
     ]
    }
   ],
   "source": [
    "import pandas as pd\n",
    "\n",
    "# Load the CSV dataset into a DataFrame\n",
    "data = pd.read_csv(r\"C:\\MAJOR PROJECT\\NOTEBOOKmajorProject\\featureAnalysis+classification\\read+spon_final.csv\")\n",
    "\n",
    "# Assuming the last column is the target variable\n",
    "target_column = data.iloc[:, -1]\n",
    "\n",
    "# Count the occurrences of each label\n",
    "label_counts = target_column.value_counts()\n",
    "\n",
    "print(\"Number of occurrences of each label:\")\n",
    "print(label_counts)\n"
   ]
  }
 ],
 "metadata": {
  "kernelspec": {
   "display_name": "Python 3 (ipykernel)",
   "language": "python",
   "name": "python3"
  },
  "language_info": {
   "codemirror_mode": {
    "name": "ipython",
    "version": 3
   },
   "file_extension": ".py",
   "mimetype": "text/x-python",
   "name": "python",
   "nbconvert_exporter": "python",
   "pygments_lexer": "ipython3",
   "version": "3.10.4"
  }
 },
 "nbformat": 4,
 "nbformat_minor": 5
}
